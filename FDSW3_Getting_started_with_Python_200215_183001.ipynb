{
  "nbformat": 4,
  "nbformat_minor": 0,
  "metadata": {
    "colab": {
      "name": "FDSW3_Getting_started_with_Python-200215-183001.ipynb",
      "provenance": [],
      "toc_visible": true
    },
    "kernelspec": {
      "display_name": "Python 3",
      "language": "python",
      "name": "python3"
    },
    "language_info": {
      "codemirror_mode": {
        "name": "ipython",
        "version": 3
      },
      "file_extension": ".py",
      "mimetype": "text/x-python",
      "name": "python",
      "nbconvert_exporter": "python",
      "pygments_lexer": "ipython3",
      "version": "3.7.4"
    }
  },
  "cells": [
    {
      "cell_type": "markdown",
      "metadata": {
        "colab_type": "text",
        "id": "sUyztms6tpcD"
      },
      "source": [
        "# Printing basic types"
      ]
    },
    {
      "cell_type": "code",
      "metadata": {
        "colab_type": "code",
        "id": "yX_3K6mhpsUz",
        "outputId": "7632ed3a-33e2-4c37-8322-a60fc0636b44",
        "colab": {
          "base_uri": "https://localhost:8080/",
          "height": 34
        }
      },
      "source": [
        "print(\"Hello World!\") "
      ],
      "execution_count": 0,
      "outputs": [
        {
          "output_type": "stream",
          "text": [
            "Hello World!\n"
          ],
          "name": "stdout"
        }
      ]
    },
    {
      "cell_type": "code",
      "metadata": {
        "colab_type": "code",
        "id": "ebQrE1xUrB7r",
        "outputId": "a4a0f852-6beb-4727-fd78-1da892cd83f4",
        "colab": {
          "base_uri": "https://localhost:8080/",
          "height": 51
        }
      },
      "source": [
        "print(\"Hello World!\")\n",
        "print(\"Namaskar from PadhAI\")"
      ],
      "execution_count": 0,
      "outputs": [
        {
          "output_type": "stream",
          "text": [
            "Hello World!\n",
            "Namaskar from PadhAI\n"
          ],
          "name": "stdout"
        }
      ]
    },
    {
      "cell_type": "code",
      "metadata": {
        "colab_type": "code",
        "id": "d-0uh16VrU18",
        "outputId": "37e7f197-7730-4517-f349-6b26147cec4f",
        "colab": {
          "base_uri": "https://localhost:8080/",
          "height": 51
        }
      },
      "source": [
        "print(\"PadhAI\")\n",
        "print(\"Padh\" + \"AI\")"
      ],
      "execution_count": 0,
      "outputs": [
        {
          "output_type": "stream",
          "text": [
            "PadhAI\n",
            "PadhAI\n"
          ],
          "name": "stdout"
        }
      ]
    },
    {
      "cell_type": "code",
      "metadata": {
        "colab_type": "code",
        "id": "NFwPM84vroro",
        "outputId": "941ea42c-06a3-4d46-d9b4-2d19076f95a8",
        "colab": {
          "base_uri": "https://localhost:8080/",
          "height": 34
        }
      },
      "source": [
        "print(1729)"
      ],
      "execution_count": 0,
      "outputs": [
        {
          "output_type": "stream",
          "text": [
            "1729\n"
          ],
          "name": "stdout"
        }
      ]
    },
    {
      "cell_type": "code",
      "metadata": {
        "colab_type": "code",
        "id": "iSzHtkXdru_7",
        "outputId": "4fac1fd2-0617-4098-fd7d-87cad9f2137d",
        "colab": {
          "base_uri": "https://localhost:8080/",
          "height": 34
        }
      },
      "source": [
        "print(1000 + 729)  # Check this with Ramanujan's entry"
      ],
      "execution_count": 0,
      "outputs": [
        {
          "output_type": "stream",
          "text": [
            "1729\n"
          ],
          "name": "stdout"
        }
      ]
    },
    {
      "cell_type": "code",
      "metadata": {
        "colab_type": "code",
        "id": "Nigrs1Ier1lS",
        "colab": {}
      },
      "source": [
        "print(55/34)   # check golden ratio"
      ],
      "execution_count": 0,
      "outputs": []
    },
    {
      "cell_type": "code",
      "metadata": {
        "colab_type": "code",
        "id": "gI7cE04wsHCJ",
        "colab": {}
      },
      "source": [
        "print(1.618)"
      ],
      "execution_count": 0,
      "outputs": []
    },
    {
      "cell_type": "code",
      "metadata": {
        "colab_type": "code",
        "id": "bIv5yRd-sTHl",
        "outputId": "9eedc3fe-099f-4255-b0bf-d77656678c09",
        "colab": {
          "base_uri": "https://localhost:8080/",
          "height": 34
        }
      },
      "source": [
        "print(True)"
      ],
      "execution_count": 0,
      "outputs": [
        {
          "output_type": "stream",
          "text": [
            "True\n"
          ],
          "name": "stdout"
        }
      ]
    },
    {
      "cell_type": "code",
      "metadata": {
        "colab_type": "code",
        "id": "TPAlPpqGsYgh",
        "colab": {}
      },
      "source": [
        "print(False)"
      ],
      "execution_count": 0,
      "outputs": []
    },
    {
      "cell_type": "code",
      "metadata": {
        "colab_type": "code",
        "id": "ctslkzuVsc3Z",
        "outputId": "49e63d05-484c-4fc5-ffc3-29fe4f881323",
        "colab": {
          "base_uri": "https://localhost:8080/",
          "height": 34
        }
      },
      "source": [
        "print(True or False)"
      ],
      "execution_count": 0,
      "outputs": [
        {
          "output_type": "stream",
          "text": [
            "True\n"
          ],
          "name": "stdout"
        }
      ]
    },
    {
      "cell_type": "code",
      "metadata": {
        "colab_type": "code",
        "id": "NuF8mDv_siHE",
        "outputId": "01c12060-39f1-460d-9b57-68b6dc917f7a",
        "colab": {
          "base_uri": "https://localhost:8080/",
          "height": 34
        }
      },
      "source": [
        "print(True and False)"
      ],
      "execution_count": 0,
      "outputs": [
        {
          "output_type": "stream",
          "text": [
            "False\n"
          ],
          "name": "stdout"
        }
      ]
    },
    {
      "cell_type": "code",
      "metadata": {
        "id": "9ElNpv2o9ejM",
        "colab_type": "code",
        "colab": {}
      },
      "source": [
        "from google.colab import drive\n",
        "drive.mount('/content/drive')"
      ],
      "execution_count": 0,
      "outputs": []
    },
    {
      "cell_type": "markdown",
      "metadata": {
        "colab_type": "text",
        "id": "4WJiz_vktZMF"
      },
      "source": [
        "# Variables and inputs"
      ]
    },
    {
      "cell_type": "code",
      "metadata": {
        "colab_type": "code",
        "id": "UcbojZjmsmGp",
        "colab": {}
      },
      "source": [
        "school = \"PadhAI\""
      ],
      "execution_count": 0,
      "outputs": []
    },
    {
      "cell_type": "code",
      "metadata": {
        "colab_type": "code",
        "id": "NSgQPqpPt4vA",
        "outputId": "608cc460-d55f-42be-d283-e53e0be214f0",
        "colab": {
          "base_uri": "https://localhost:8080/",
          "height": 34
        }
      },
      "source": [
        "print(school)"
      ],
      "execution_count": 0,
      "outputs": [
        {
          "output_type": "stream",
          "text": [
            "PadhAI\n"
          ],
          "name": "stdout"
        }
      ]
    },
    {
      "cell_type": "code",
      "metadata": {
        "colab_type": "code",
        "id": "NFtctHOzt7lO",
        "outputId": "423b4f8d-f4b7-4da3-d63f-9266debd2798",
        "colab": {
          "base_uri": "https://localhost:8080/",
          "height": 34
        }
      },
      "source": [
        "print(type(school))"
      ],
      "execution_count": 0,
      "outputs": [
        {
          "output_type": "stream",
          "text": [
            "<class 'str'>\n"
          ],
          "name": "stdout"
        }
      ]
    },
    {
      "cell_type": "code",
      "metadata": {
        "colab_type": "code",
        "id": "7wm8fQ5dt_nR",
        "colab": {}
      },
      "source": [
        "print(id(school))"
      ],
      "execution_count": 0,
      "outputs": []
    },
    {
      "cell_type": "code",
      "metadata": {
        "colab_type": "code",
        "id": "dqgEvnXHuHEq",
        "colab": {}
      },
      "source": [
        "another_school = \"PadhAI\""
      ],
      "execution_count": 0,
      "outputs": []
    },
    {
      "cell_type": "code",
      "metadata": {
        "colab_type": "code",
        "id": "wmTl3W8tuTlU",
        "colab": {}
      },
      "source": [
        "print(another_school)"
      ],
      "execution_count": 0,
      "outputs": []
    },
    {
      "cell_type": "code",
      "metadata": {
        "colab_type": "code",
        "id": "BVREq21muYv-",
        "colab": {}
      },
      "source": [
        "print(id(another_school))"
      ],
      "execution_count": 0,
      "outputs": []
    },
    {
      "cell_type": "code",
      "metadata": {
        "colab_type": "code",
        "id": "8EyzeS2Oubwk",
        "colab": {}
      },
      "source": [
        "another_school = \"IIT Madras\""
      ],
      "execution_count": 0,
      "outputs": []
    },
    {
      "cell_type": "code",
      "metadata": {
        "colab_type": "code",
        "id": "WyzPSGF4uk1d",
        "colab": {}
      },
      "source": [
        "print(id(another_school))"
      ],
      "execution_count": 0,
      "outputs": []
    },
    {
      "cell_type": "code",
      "metadata": {
        "colab_type": "code",
        "id": "DG2pce6_uneL",
        "colab": {}
      },
      "source": [
        "print(\"I am studying at \" + school)"
      ],
      "execution_count": 0,
      "outputs": []
    },
    {
      "cell_type": "code",
      "metadata": {
        "colab_type": "code",
        "id": "Lg6fOrA5u-QB",
        "colab": {}
      },
      "source": [
        "r_no = 1729"
      ],
      "execution_count": 0,
      "outputs": []
    },
    {
      "cell_type": "code",
      "metadata": {
        "colab_type": "code",
        "id": "cJ96EKjZvuZo",
        "colab": {}
      },
      "source": [
        "print(type(r_no))"
      ],
      "execution_count": 0,
      "outputs": []
    },
    {
      "cell_type": "code",
      "metadata": {
        "colab_type": "code",
        "id": "TP7bcTq8vvhY",
        "colab": {}
      },
      "source": [
        "golden_ratio = 55/34"
      ],
      "execution_count": 0,
      "outputs": []
    },
    {
      "cell_type": "code",
      "metadata": {
        "colab_type": "code",
        "id": "QjwfykcjvyLc",
        "colab": {}
      },
      "source": [
        "print(type(golden_ratio))"
      ],
      "execution_count": 0,
      "outputs": []
    },
    {
      "cell_type": "code",
      "metadata": {
        "colab_type": "code",
        "id": "Ra-PK3V8v1w-",
        "colab": {}
      },
      "source": [
        "is_good = True"
      ],
      "execution_count": 0,
      "outputs": []
    },
    {
      "cell_type": "code",
      "metadata": {
        "colab_type": "code",
        "id": "-LCD5m4Lv6Lv",
        "colab": {}
      },
      "source": [
        "print(type(is_good))"
      ],
      "execution_count": 0,
      "outputs": []
    },
    {
      "cell_type": "code",
      "metadata": {
        "colab_type": "code",
        "id": "-1uAGTdEv7f9",
        "colab": {}
      },
      "source": [
        "my_name = input(\"What is your name \")"
      ],
      "execution_count": 0,
      "outputs": []
    },
    {
      "cell_type": "code",
      "metadata": {
        "colab_type": "code",
        "id": "IGw52DcowH3y",
        "colab": {}
      },
      "source": [
        "print(my_name, type(my_name))"
      ],
      "execution_count": 0,
      "outputs": []
    },
    {
      "cell_type": "code",
      "metadata": {
        "colab_type": "code",
        "id": "NI7vOwvLwK99",
        "colab": {}
      },
      "source": [
        "print(my_name + \" is studying at \" + school)"
      ],
      "execution_count": 0,
      "outputs": []
    },
    {
      "cell_type": "code",
      "metadata": {
        "colab_type": "code",
        "id": "32bUlwlCwU87",
        "colab": {}
      },
      "source": [
        "hours_per_day = input(\"How many hours per day do you study \")"
      ],
      "execution_count": 0,
      "outputs": []
    },
    {
      "cell_type": "code",
      "metadata": {
        "colab_type": "code",
        "id": "PgBZ-fxEwgZ-",
        "colab": {}
      },
      "source": [
        "print(my_name + \" studies for \" + hours_per_day + \" hours\")"
      ],
      "execution_count": 0,
      "outputs": []
    },
    {
      "cell_type": "code",
      "metadata": {
        "colab_type": "code",
        "id": "J7-LzoG8woEH",
        "colab": {}
      },
      "source": [
        "hours_per_week = hours_per_day * 7"
      ],
      "execution_count": 0,
      "outputs": []
    },
    {
      "cell_type": "code",
      "metadata": {
        "colab_type": "code",
        "id": "tqwculrBwyVz",
        "colab": {}
      },
      "source": [
        "print(my_name + \" studies for \" + hours_per_week + \" hours\")"
      ],
      "execution_count": 0,
      "outputs": []
    },
    {
      "cell_type": "code",
      "metadata": {
        "colab_type": "code",
        "id": "24ATna0qw3Kt",
        "colab": {}
      },
      "source": [
        "print(type(hours_per_day))"
      ],
      "execution_count": 0,
      "outputs": []
    },
    {
      "cell_type": "code",
      "metadata": {
        "colab_type": "code",
        "id": "ImjjYdzew-pw",
        "colab": {}
      },
      "source": [
        "hours_per_day_int = float(hours_per_day)"
      ],
      "execution_count": 0,
      "outputs": []
    },
    {
      "cell_type": "code",
      "metadata": {
        "colab_type": "code",
        "id": "mUnbvCXTxJBO",
        "colab": {}
      },
      "source": [
        "print(hours_per_day_int, type(hours_per_day_int))"
      ],
      "execution_count": 0,
      "outputs": []
    },
    {
      "cell_type": "code",
      "metadata": {
        "colab_type": "code",
        "id": "cT61tZajxNjA",
        "colab": {}
      },
      "source": [
        "hours_per_week = hours_per_day_int * 7"
      ],
      "execution_count": 0,
      "outputs": []
    },
    {
      "cell_type": "code",
      "metadata": {
        "colab_type": "code",
        "id": "mvju04oBxXnr",
        "colab": {}
      },
      "source": [
        "print(my_name + \" studies for \" + hours_per_week + \" hours\")"
      ],
      "execution_count": 0,
      "outputs": []
    },
    {
      "cell_type": "code",
      "metadata": {
        "colab_type": "code",
        "id": "uBBaJ5CRxZWX",
        "colab": {}
      },
      "source": [
        "print(my_name + \" studies for \" + str(hours_per_week) + \" hours\")"
      ],
      "execution_count": 0,
      "outputs": []
    },
    {
      "cell_type": "markdown",
      "metadata": {
        "colab_type": "text",
        "id": "xTZ4ZiuJzGjv"
      },
      "source": [
        "# String Processing"
      ]
    },
    {
      "cell_type": "code",
      "metadata": {
        "colab_type": "code",
        "id": "1dVEAr70zBLC",
        "colab": {}
      },
      "source": [
        "topic = \"Foundations of Data Science\""
      ],
      "execution_count": 0,
      "outputs": []
    },
    {
      "cell_type": "code",
      "metadata": {
        "colab_type": "code",
        "id": "zmqU0UKzzL4k",
        "colab": {}
      },
      "source": [
        "print(topic)"
      ],
      "execution_count": 0,
      "outputs": []
    },
    {
      "cell_type": "code",
      "metadata": {
        "colab_type": "code",
        "id": "N4yxWuaNzNif",
        "colab": {}
      },
      "source": [
        "print(topic[0])"
      ],
      "execution_count": 0,
      "outputs": []
    },
    {
      "cell_type": "code",
      "metadata": {
        "colab_type": "code",
        "id": "oAiJ_C8czWQT",
        "colab": {}
      },
      "source": [
        "print(topic[1])"
      ],
      "execution_count": 0,
      "outputs": []
    },
    {
      "cell_type": "code",
      "metadata": {
        "colab_type": "code",
        "id": "ub_UWR_ozYcb",
        "colab": {}
      },
      "source": [
        "print(topic[10])"
      ],
      "execution_count": 0,
      "outputs": []
    },
    {
      "cell_type": "code",
      "metadata": {
        "colab_type": "code",
        "id": "-Z0kkrcZzZ31",
        "colab": {}
      },
      "source": [
        "print(topic[-1])"
      ],
      "execution_count": 0,
      "outputs": []
    },
    {
      "cell_type": "code",
      "metadata": {
        "colab_type": "code",
        "id": "nuEUE7xBzeSH",
        "colab": {}
      },
      "source": [
        "print(topic[-2])"
      ],
      "execution_count": 0,
      "outputs": []
    },
    {
      "cell_type": "code",
      "metadata": {
        "colab_type": "code",
        "id": "XkGAFvCSzhHm",
        "outputId": "fb360399-4722-41e5-dba9-20ed00e7637c",
        "colab": {
          "base_uri": "https://localhost:8080/",
          "height": 34
        }
      },
      "source": [
        "print(topic[0:10])"
      ],
      "execution_count": 0,
      "outputs": [
        {
          "output_type": "stream",
          "text": [
            "Foundation\n"
          ],
          "name": "stdout"
        }
      ]
    },
    {
      "cell_type": "code",
      "metadata": {
        "colab_type": "code",
        "id": "2EUhXtXqzmap",
        "colab": {}
      },
      "source": [
        "print(topic[12:16])"
      ],
      "execution_count": 0,
      "outputs": []
    },
    {
      "cell_type": "code",
      "metadata": {
        "colab_type": "code",
        "id": "iBu-9hzGzy9z",
        "outputId": "ba2103fd-e001-4b09-878d-1cbe13e09a72",
        "colab": {
          "base_uri": "https://localhost:8080/",
          "height": 34
        }
      },
      "source": [
        "print(topic.lower())"
      ],
      "execution_count": 0,
      "outputs": [
        {
          "output_type": "stream",
          "text": [
            "foundations of data science\n"
          ],
          "name": "stdout"
        }
      ]
    },
    {
      "cell_type": "code",
      "metadata": {
        "colab_type": "code",
        "id": "x0lecon80AfR",
        "colab": {}
      },
      "source": [
        "print(topic)"
      ],
      "execution_count": 0,
      "outputs": []
    },
    {
      "cell_type": "code",
      "metadata": {
        "colab_type": "code",
        "id": "BicYceS50JK5",
        "colab": {}
      },
      "source": [
        "topic = topic.lower()"
      ],
      "execution_count": 0,
      "outputs": []
    },
    {
      "cell_type": "code",
      "metadata": {
        "colab_type": "code",
        "id": "nZwCEJM20OwN",
        "outputId": "3d229220-0332-4232-d05a-2cfc4d01f7b5",
        "colab": {
          "base_uri": "https://localhost:8080/",
          "height": 34
        }
      },
      "source": [
        "print(topic.upper())"
      ],
      "execution_count": 0,
      "outputs": [
        {
          "output_type": "stream",
          "text": [
            "FOUNDATIONS OF DATA SCIENCE\n"
          ],
          "name": "stdout"
        }
      ]
    },
    {
      "cell_type": "code",
      "metadata": {
        "colab_type": "code",
        "id": "N19c2C9U0TRt",
        "colab": {}
      },
      "source": [
        "print(topic.islower())"
      ],
      "execution_count": 0,
      "outputs": []
    },
    {
      "cell_type": "code",
      "metadata": {
        "colab_type": "code",
        "id": "UWGUYy2M0g7j",
        "colab": {}
      },
      "source": [
        "topic = topic.upper()"
      ],
      "execution_count": 0,
      "outputs": []
    },
    {
      "cell_type": "code",
      "metadata": {
        "colab_type": "code",
        "id": "2QG555oQ0mK2",
        "colab": {}
      },
      "source": [
        "print(topic.islower())"
      ],
      "execution_count": 0,
      "outputs": []
    },
    {
      "cell_type": "code",
      "metadata": {
        "colab_type": "code",
        "id": "2kN-ulZE0nC2",
        "colab": {}
      },
      "source": [
        "print(topic.isupper())"
      ],
      "execution_count": 0,
      "outputs": []
    },
    {
      "cell_type": "code",
      "metadata": {
        "colab_type": "code",
        "id": "-AZIyOr-0oos",
        "colab": {}
      },
      "source": [
        "print(topic.find(\"DATA\"))"
      ],
      "execution_count": 0,
      "outputs": []
    },
    {
      "cell_type": "code",
      "metadata": {
        "colab_type": "code",
        "id": "MCNc5uc_0xvi",
        "colab": {}
      },
      "source": [
        "print(topic[15])"
      ],
      "execution_count": 0,
      "outputs": []
    },
    {
      "cell_type": "code",
      "metadata": {
        "colab_type": "code",
        "id": "wgLpgUlk01pv",
        "colab": {}
      },
      "source": [
        "print(topic.find(\"AI\"))"
      ],
      "execution_count": 0,
      "outputs": []
    },
    {
      "cell_type": "code",
      "metadata": {
        "colab_type": "code",
        "id": "zRaPGweO087Z",
        "colab": {}
      },
      "source": [
        "print(topic.replace(\"SCIENCE\", \"ENGINEERING\"))"
      ],
      "execution_count": 0,
      "outputs": []
    },
    {
      "cell_type": "code",
      "metadata": {
        "colab_type": "code",
        "id": "b4ttlSAB1Fd8",
        "colab": {}
      },
      "source": [
        "print(55/34)"
      ],
      "execution_count": 0,
      "outputs": []
    },
    {
      "cell_type": "code",
      "metadata": {
        "colab_type": "code",
        "id": "-obVCuMD1jhD",
        "colab": {}
      },
      "source": [
        "golden_ratio = 55/34"
      ],
      "execution_count": 0,
      "outputs": []
    },
    {
      "cell_type": "code",
      "metadata": {
        "colab_type": "code",
        "id": "CIquAsjh1mGQ",
        "colab": {}
      },
      "source": [
        "print(type(golden_ratio))"
      ],
      "execution_count": 0,
      "outputs": []
    },
    {
      "cell_type": "code",
      "metadata": {
        "colab_type": "code",
        "id": "SrtEoOGl1nc8",
        "colab": {}
      },
      "source": [
        "print(golden_ratio.is_integer())"
      ],
      "execution_count": 0,
      "outputs": []
    },
    {
      "cell_type": "code",
      "metadata": {
        "colab_type": "code",
        "id": "1V8GHcEE1saH",
        "colab": {}
      },
      "source": [
        "print(golden_ratio.as_integer_ratio())"
      ],
      "execution_count": 0,
      "outputs": []
    },
    {
      "cell_type": "code",
      "metadata": {
        "colab_type": "code",
        "id": "CtxuVqWx1zKJ",
        "colab": {}
      },
      "source": [
        "print(3642617345667313/2251799813685248)"
      ],
      "execution_count": 0,
      "outputs": []
    },
    {
      "cell_type": "code",
      "metadata": {
        "colab_type": "code",
        "id": "2M7nu2GP13un",
        "colab": {}
      },
      "source": [
        "print(55 // 34, 55/34)"
      ],
      "execution_count": 0,
      "outputs": []
    },
    {
      "cell_type": "code",
      "metadata": {
        "colab_type": "code",
        "id": "1fkt5I5b2dzd",
        "colab": {}
      },
      "source": [
        "print(55 % 34)"
      ],
      "execution_count": 0,
      "outputs": []
    },
    {
      "cell_type": "code",
      "metadata": {
        "colab_type": "code",
        "id": "JboXbWNX2fkr",
        "colab": {}
      },
      "source": [
        "print(2 ** 3)"
      ],
      "execution_count": 0,
      "outputs": []
    },
    {
      "cell_type": "markdown",
      "metadata": {
        "colab_type": "text",
        "id": "_1e_FyAD3EI7"
      },
      "source": [
        "# If, For, While Blocks"
      ]
    },
    {
      "cell_type": "code",
      "metadata": {
        "colab_type": "code",
        "id": "YlKDJaNB3u6_",
        "colab": {}
      },
      "source": [
        "hours_per_week = 5"
      ],
      "execution_count": 0,
      "outputs": []
    },
    {
      "cell_type": "code",
      "metadata": {
        "colab_type": "code",
        "id": "GZUzOAHD2kYX",
        "colab": {}
      },
      "source": [
        "if hours_per_week > 10:\n",
        "    print(my_name + \" you are doing well\")"
      ],
      "execution_count": 0,
      "outputs": []
    },
    {
      "cell_type": "code",
      "metadata": {
        "colab_type": "code",
        "id": "F788jWY83tTf",
        "colab": {}
      },
      "source": [
        "if hours_per_week > 10:\n",
        "    print(my_name + \" you are doing well\")\n",
        "print(\"Outside If\")"
      ],
      "execution_count": 0,
      "outputs": []
    },
    {
      "cell_type": "code",
      "metadata": {
        "colab_type": "code",
        "id": "nc08nM4q38OU",
        "colab": {}
      },
      "source": [
        "if hours_per_week > 10:\n",
        "    print(my_name + \" you are doing well\")\n",
        "else:\n",
        "    print(my_name + \" you need to study more\")"
      ],
      "execution_count": 0,
      "outputs": []
    },
    {
      "cell_type": "code",
      "metadata": {
        "colab_type": "code",
        "id": "6yz4l2P44KGF",
        "colab": {}
      },
      "source": [
        "for i in range(5):\n",
        "    print(i)"
      ],
      "execution_count": 0,
      "outputs": []
    },
    {
      "cell_type": "code",
      "metadata": {
        "colab_type": "code",
        "id": "KVZn2ZNl4e_j",
        "colab": {}
      },
      "source": [
        "range?"
      ],
      "execution_count": 0,
      "outputs": []
    },
    {
      "cell_type": "code",
      "metadata": {
        "colab_type": "code",
        "id": "NUeOJ9CX4lmj",
        "colab": {}
      },
      "source": [
        "for i in range(2, 5):\n",
        "    print(i, i**2)"
      ],
      "execution_count": 0,
      "outputs": []
    },
    {
      "cell_type": "code",
      "metadata": {
        "colab_type": "code",
        "id": "__6vd_Df5DE8",
        "colab": {}
      },
      "source": [
        "a = 1\n",
        "b = 1\n",
        "print(a)\n",
        "print(b)\n",
        "for i in range(10):\n",
        "    temp = a + b\n",
        "    a = b\n",
        "    b = temp\n",
        "    print(temp)"
      ],
      "execution_count": 0,
      "outputs": []
    },
    {
      "cell_type": "code",
      "metadata": {
        "colab_type": "code",
        "id": "-lbt47gx5nNK",
        "colab": {}
      },
      "source": [
        "a = 1\n",
        "b = 1\n",
        "print(a)\n",
        "print(b)\n",
        "i = 2\n",
        "while b < 1729:\n",
        "    temp = a + b\n",
        "    i += 1\n",
        "    a = b\n",
        "    b = temp\n",
        "    print(temp)\n",
        "print(\"Printed\", i, \"numbers\")"
      ],
      "execution_count": 0,
      "outputs": []
    },
    {
      "cell_type": "markdown",
      "metadata": {
        "colab_type": "text",
        "id": "H6UBrWkCIjSk"
      },
      "source": [
        "# Functions"
      ]
    },
    {
      "cell_type": "code",
      "metadata": {
        "colab_type": "code",
        "id": "ZOqBP4f-HAwH",
        "colab": {}
      },
      "source": [
        "def fibonacci(pos):\n",
        "    a = 1\n",
        "    b = 1\n",
        "    for i in range(pos):\n",
        "        temp = a + b\n",
        "        a = b\n",
        "        b = temp\n",
        "    return temp"
      ],
      "execution_count": 0,
      "outputs": []
    },
    {
      "cell_type": "code",
      "metadata": {
        "colab_type": "code",
        "id": "A-hZFFq1I5js",
        "colab": {}
      },
      "source": [
        "print(fibonacci(3))"
      ],
      "execution_count": 0,
      "outputs": []
    },
    {
      "cell_type": "code",
      "metadata": {
        "colab_type": "code",
        "id": "vN5zd8g4I9Ri",
        "colab": {}
      },
      "source": [
        "print(fibonacci(8), fibonacci(7))"
      ],
      "execution_count": 0,
      "outputs": []
    },
    {
      "cell_type": "code",
      "metadata": {
        "colab_type": "code",
        "id": "8pp648VcJBi2",
        "colab": {}
      },
      "source": [
        "for i in range(2, 20):\n",
        "    ratio = fibonacci(i) / fibonacci(i - 1)\n",
        "    print(i, ratio)"
      ],
      "execution_count": 0,
      "outputs": []
    },
    {
      "cell_type": "code",
      "metadata": {
        "colab_type": "code",
        "id": "gFEYx2OLJQCr",
        "colab": {}
      },
      "source": [
        "def fibonacci_relative(pos, a, b):\n",
        "    for i in range(pos):\n",
        "        temp = a + b\n",
        "        a = b\n",
        "        b = temp\n",
        "    return temp"
      ],
      "execution_count": 0,
      "outputs": []
    },
    {
      "cell_type": "code",
      "metadata": {
        "colab_type": "code",
        "id": "fPbyYs5hJr1-",
        "colab": {}
      },
      "source": [
        "print(fibonacci_relative(3, 34, 55))"
      ],
      "execution_count": 0,
      "outputs": []
    },
    {
      "cell_type": "code",
      "metadata": {
        "colab_type": "code",
        "id": "MM_zwZKNJ7y9",
        "colab": {}
      },
      "source": [
        "def fibonacci_ol(pos, a = 1, b = 1):\n",
        "    for i in range(pos):\n",
        "        temp = a + b\n",
        "        a = b\n",
        "        b = temp\n",
        "    return temp"
      ],
      "execution_count": 0,
      "outputs": []
    },
    {
      "cell_type": "code",
      "metadata": {
        "colab_type": "code",
        "id": "-17_Kcb3KUgK",
        "colab": {}
      },
      "source": [
        "print(fibonacci_ol(3, 34, 55))"
      ],
      "execution_count": 0,
      "outputs": []
    },
    {
      "cell_type": "code",
      "metadata": {
        "colab_type": "code",
        "id": "gLKZHtabKWk3",
        "colab": {}
      },
      "source": [
        "print(fibonacci_relative(3))"
      ],
      "execution_count": 0,
      "outputs": []
    },
    {
      "cell_type": "code",
      "metadata": {
        "colab_type": "code",
        "id": "_xu39REXLM6V",
        "colab": {}
      },
      "source": [
        "def fibonacci_recursive(n, a = 1, b = 1):\n",
        "    if n > 1:\n",
        "        return fibonacci_recursive(n - 1, b, a + b)\n",
        "    else:\n",
        "        return a + b"
      ],
      "execution_count": 0,
      "outputs": []
    },
    {
      "cell_type": "code",
      "metadata": {
        "colab_type": "code",
        "id": "VFpDuwrQLk0R",
        "colab": {}
      },
      "source": [
        "print(fibonacci_recursive(3, 34, 55))"
      ],
      "execution_count": 0,
      "outputs": []
    },
    {
      "cell_type": "code",
      "metadata": {
        "colab_type": "code",
        "id": "yaTANpbCSPtX",
        "colab": {}
      },
      "source": [
        "def fibonacci(pos):\n",
        "    a = 1\n",
        "    b = 1\n",
        "    for i in range(pos):\n",
        "        temp = a + b\n",
        "        a = b\n",
        "        b = temp\n",
        "    return temp"
      ],
      "execution_count": 0,
      "outputs": []
    },
    {
      "cell_type": "code",
      "metadata": {
        "colab_type": "code",
        "id": "xafMdRP_SPtb",
        "colab": {}
      },
      "source": [
        "print(fibonacci(3))"
      ],
      "execution_count": 0,
      "outputs": []
    },
    {
      "cell_type": "code",
      "metadata": {
        "colab_type": "code",
        "id": "t172sAFrSPtf",
        "colab": {}
      },
      "source": [
        "print(fibonacci(8), fibonacci(7))"
      ],
      "execution_count": 0,
      "outputs": []
    },
    {
      "cell_type": "code",
      "metadata": {
        "colab_type": "code",
        "id": "n2A_Xs83SPti",
        "colab": {}
      },
      "source": [
        "for i in range(2, 20):\n",
        "    ratio = fibonacci(i) / fibonacci(i - 1)\n",
        "    print(i, ratio)"
      ],
      "execution_count": 0,
      "outputs": []
    },
    {
      "cell_type": "code",
      "metadata": {
        "colab_type": "code",
        "id": "V_55I0X2SPtn",
        "colab": {}
      },
      "source": [
        "def fibonacci_relative(pos, a, b):\n",
        "    for i in range(pos):\n",
        "        temp = a + b\n",
        "        a = b\n",
        "        b = temp\n",
        "    return temp"
      ],
      "execution_count": 0,
      "outputs": []
    },
    {
      "cell_type": "code",
      "metadata": {
        "colab_type": "code",
        "id": "YqqFpkOWSPtq",
        "colab": {}
      },
      "source": [
        "print(fibonacci_relative(3, 34, 55))"
      ],
      "execution_count": 0,
      "outputs": []
    },
    {
      "cell_type": "code",
      "metadata": {
        "colab_type": "code",
        "id": "ITS77jEhSPtt",
        "colab": {}
      },
      "source": [
        "def fibonacci_ol(pos, a = 1, b = 1):\n",
        "    for i in range(pos):\n",
        "        temp = a + b\n",
        "        a = b\n",
        "        b = temp\n",
        "    return temp"
      ],
      "execution_count": 0,
      "outputs": []
    },
    {
      "cell_type": "code",
      "metadata": {
        "colab_type": "code",
        "id": "5nr-wa9ISPtv",
        "colab": {}
      },
      "source": [
        "print(fibonacci_ol(3, 34, 55))"
      ],
      "execution_count": 0,
      "outputs": []
    },
    {
      "cell_type": "code",
      "metadata": {
        "colab_type": "code",
        "id": "4ra6GBwISPtx",
        "colab": {}
      },
      "source": [
        "print(fibonacci_relative(3))"
      ],
      "execution_count": 0,
      "outputs": []
    },
    {
      "cell_type": "code",
      "metadata": {
        "colab_type": "code",
        "id": "d5Qb0cXgSPt0",
        "colab": {}
      },
      "source": [
        "def fibonacci_recursive(n, a = 1, b = 1):\n",
        "    if n > 1:\n",
        "        return fibonacci_recursive(n - 1, b, a + b)\n",
        "    else:\n",
        "        return a + b"
      ],
      "execution_count": 0,
      "outputs": []
    },
    {
      "cell_type": "code",
      "metadata": {
        "colab_type": "code",
        "id": "o3ZHPT30SPt2",
        "colab": {}
      },
      "source": [
        "print(fibonacci_recursive(3, 34, 55))"
      ],
      "execution_count": 0,
      "outputs": []
    }
  ]
}