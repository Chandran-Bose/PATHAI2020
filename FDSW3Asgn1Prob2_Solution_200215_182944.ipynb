{
  "nbformat": 4,
  "nbformat_minor": 0,
  "metadata": {
    "colab": {
      "name": "FDSW3Asgn1Prob2_Solution-200215-182944.ipynb",
      "provenance": []
    },
    "kernelspec": {
      "display_name": "Python 3",
      "language": "python",
      "name": "python3"
    },
    "language_info": {
      "codemirror_mode": {
        "name": "ipython",
        "version": 3
      },
      "file_extension": ".py",
      "mimetype": "text/x-python",
      "name": "python",
      "nbconvert_exporter": "python",
      "pygments_lexer": "ipython3",
      "version": "3.7.4"
    }
  },
  "cells": [
    {
      "cell_type": "markdown",
      "metadata": {
        "colab_type": "text",
        "id": "FlFh0Ez7MGKT"
      },
      "source": [
        "# Assignment 1 Problem 2 "
      ]
    },
    {
      "cell_type": "markdown",
      "metadata": {
        "colab_type": "text",
        "id": "eEUeibGLMOwg"
      },
      "source": [
        "Exercise 2\n",
        "\n",
        "---\n",
        "\n",
        "1.   Write an iterative function to compute the factorial of a natural number\n",
        "2.   Write a recursive function to compute the factorial of a natural number.\n",
        "3.   Write a function to compute $\\frac{x^n}{n!}$ given a float $x$ and natural number $n$ as arguments\n",
        "4.   Write a function to iteratively sum up the value $\\frac{x^n}{n!}$ from $n = 1$ to a given $N$ for a given $x$, i.e., \n",
        "$$ F(x, N) = 1 + \\sum_{i = 1}^N \\dfrac{x^n}{n!}$$\n",
        "5.   Write a function to iteratively sum up the value $\\frac{x^n}{n!}$ from $n = 1$ to a chosen value of $N'$ such that $$F(x, N') - F(x, N' - 1) < \\epsilon$$ for given real number $x$ and positive small number $\\epsilon$\n",
        "6.   Choose two real numbers $p$ and $q$ and compute the following two values\n",
        "$$ v_1 = F(p, 100) * F(q, 100) $$\n",
        "$$ v_2 = F(p + q, 100) $$\n",
        "Compute the difference $v_1 - v_2$ and comment on what you see."
      ]
    },
    {
      "cell_type": "markdown",
      "metadata": {
        "colab_type": "text",
        "id": "JNBGx27FTr0w"
      },
      "source": [
        "# Solution to Problem 2"
      ]
    },
    {
      "cell_type": "code",
      "metadata": {
        "colab_type": "code",
        "id": "L0iE_xfQTFQM",
        "colab": {}
      },
      "source": [
        "def factorial(n):\n",
        "    product = 1\n",
        "    for i in range(n):\n",
        "        # print(i, product)\n",
        "        product *= (i + 1)\n",
        "    return product"
      ],
      "execution_count": 0,
      "outputs": []
    },
    {
      "cell_type": "code",
      "metadata": {
        "colab_type": "code",
        "id": "qqX7sEaqUAH7",
        "outputId": "5b1779c3-6d8b-4756-b3c8-796001c5b855",
        "colab": {
          "base_uri": "https://localhost:8080/",
          "height": 35
        }
      },
      "source": [
        "print(factorial(3))"
      ],
      "execution_count": 0,
      "outputs": [
        {
          "output_type": "stream",
          "text": [
            "6\n"
          ],
          "name": "stdout"
        }
      ]
    },
    {
      "cell_type": "code",
      "metadata": {
        "colab_type": "code",
        "id": "Sg2n5kdmUE2g",
        "colab": {}
      },
      "source": [
        "def factorial_recursive(n):\n",
        "    if n > 1:\n",
        "        return n * factorial_recursive(n - 1)\n",
        "    else:\n",
        "        return 1"
      ],
      "execution_count": 0,
      "outputs": []
    },
    {
      "cell_type": "code",
      "metadata": {
        "colab_type": "code",
        "id": "aWoweujRUuNj",
        "outputId": "b1ffaa7b-ce2d-4f0b-f1c0-8c7514d9aeaa",
        "colab": {
          "base_uri": "https://localhost:8080/",
          "height": 35
        }
      },
      "source": [
        "print(factorial_recursive(3))"
      ],
      "execution_count": 0,
      "outputs": [
        {
          "output_type": "stream",
          "text": [
            "6\n"
          ],
          "name": "stdout"
        }
      ]
    },
    {
      "cell_type": "code",
      "metadata": {
        "colab_type": "code",
        "id": "ToNrqyI2U1Lk",
        "colab": {}
      },
      "source": [
        "def compute_ratio(x, n):\n",
        "    ratio = x**n / factorial(n)\n",
        "    return ratio"
      ],
      "execution_count": 0,
      "outputs": []
    },
    {
      "cell_type": "code",
      "metadata": {
        "colab_type": "code",
        "id": "b8Uy6f38VFrA",
        "outputId": "6b5b3714-7dfa-4190-b923-90a406d9cca2",
        "colab": {
          "base_uri": "https://localhost:8080/",
          "height": 35
        }
      },
      "source": [
        "compute_ratio(2, 3)"
      ],
      "execution_count": 0,
      "outputs": [
        {
          "output_type": "execute_result",
          "data": {
            "text/plain": [
              "1.3333333333333333"
            ]
          },
          "metadata": {
            "tags": []
          },
          "execution_count": 6
        }
      ]
    },
    {
      "cell_type": "code",
      "metadata": {
        "colab_type": "code",
        "id": "vxlEocSAVKKV",
        "colab": {}
      },
      "source": [
        "def compute_sum(x, N):\n",
        "    sum = 1\n",
        "    for i in range(N):\n",
        "        sum += compute_ratio(x, i + 1)\n",
        "    return sum"
      ],
      "execution_count": 0,
      "outputs": []
    },
    {
      "cell_type": "code",
      "metadata": {
        "colab_type": "code",
        "id": "GfLj3W_LVnEP",
        "outputId": "073ae17c-8865-43c0-df38-e6a5caadbb40",
        "colab": {
          "base_uri": "https://localhost:8080/",
          "height": 35
        }
      },
      "source": [
        "print(compute_sum(2, 3))"
      ],
      "execution_count": 0,
      "outputs": [
        {
          "output_type": "stream",
          "text": [
            "6.333333333333333\n"
          ],
          "name": "stdout"
        }
      ]
    },
    {
      "cell_type": "code",
      "metadata": {
        "colab_type": "code",
        "id": "X9xeyyQgXPeK",
        "colab": {}
      },
      "source": [
        "def compute_sum_epsilon(x, epsilon):\n",
        "    sum = 1\n",
        "    var = epsilon\n",
        "    i = 1\n",
        "    while var >= epsilon:\n",
        "        var = compute_ratio(x, i)\n",
        "        sum += var\n",
        "        i += 1\n",
        "    return sum"
      ],
      "execution_count": 0,
      "outputs": []
    },
    {
      "cell_type": "code",
      "metadata": {
        "colab_type": "code",
        "id": "p9LWX9AzYMHV",
        "outputId": "8507e465-dd58-4788-9941-f4ed62e4e173",
        "colab": {
          "base_uri": "https://localhost:8080/",
          "height": 35
        }
      },
      "source": [
        "print(compute_sum_epsilon(2, 0.01))"
      ],
      "execution_count": 0,
      "outputs": [
        {
          "output_type": "stream",
          "text": [
            "7.387301587301587\n"
          ],
          "name": "stdout"
        }
      ]
    },
    {
      "cell_type": "code",
      "metadata": {
        "colab_type": "code",
        "id": "P3vJGNDtYSqb",
        "outputId": "6d11e6e1-c333-4f72-9502-aef46304f169",
        "colab": {
          "base_uri": "https://localhost:8080/",
          "height": 35
        }
      },
      "source": [
        "print(compute_sum(2, 100))"
      ],
      "execution_count": 0,
      "outputs": [
        {
          "output_type": "stream",
          "text": [
            "7.389056098930649\n"
          ],
          "name": "stdout"
        }
      ]
    },
    {
      "cell_type": "code",
      "metadata": {
        "colab_type": "code",
        "id": "ij3QCexDYWSN",
        "colab": {}
      },
      "source": [
        "def compute_sum_epsilon(x, epsilon):\n",
        "    sum = 1\n",
        "    i = 1\n",
        "    while True: \n",
        "        var = compute_ratio(x, i)\n",
        "        sum += var\n",
        "        i += 1\n",
        "        if var < epsilon:\n",
        "            break\n",
        "    return sum"
      ],
      "execution_count": 0,
      "outputs": []
    },
    {
      "cell_type": "code",
      "metadata": {
        "colab_type": "code",
        "id": "mBU-t0MEYtyV",
        "outputId": "8a4cfed5-1c10-4113-de56-062146deb9cf",
        "colab": {
          "base_uri": "https://localhost:8080/",
          "height": 35
        }
      },
      "source": [
        "print(compute_sum_epsilon(2, 0.01))"
      ],
      "execution_count": 0,
      "outputs": [
        {
          "output_type": "stream",
          "text": [
            "7.387301587301587\n"
          ],
          "name": "stdout"
        }
      ]
    },
    {
      "cell_type": "code",
      "metadata": {
        "colab_type": "code",
        "id": "m49f0Oz_YvBt",
        "outputId": "656f4d8c-7714-4018-da28-0444a8430dc7",
        "colab": {
          "base_uri": "https://localhost:8080/",
          "height": 35
        }
      },
      "source": [
        "p = -1.5\n",
        "q = 7.1\n",
        "\n",
        "v1 = compute_sum(p, 100) * compute_sum(q, 100)\n",
        "v2 = compute_sum(p + q, 100)\n",
        "\n",
        "print(v1, v2, v2 - v1)"
      ],
      "execution_count": 0,
      "outputs": [
        {
          "output_type": "stream",
          "text": [
            "270.4264074261525 270.4264074261526 1.1368683772161603e-13\n"
          ],
          "name": "stdout"
        }
      ]
    },
    {
      "cell_type": "code",
      "metadata": {
        "colab_type": "code",
        "id": "ephxfwVeZBF4",
        "outputId": "f2d9a760-2151-436a-f3fc-67c5ba2fae66",
        "colab": {
          "base_uri": "https://localhost:8080/",
          "height": 199
        }
      },
      "source": [
        "for i in range(10):\n",
        "    print(i, compute_sum(i, 100))"
      ],
      "execution_count": 0,
      "outputs": [
        {
          "output_type": "stream",
          "text": [
            "0 1.0\n",
            "1 2.7182818284590455\n",
            "2 7.389056098930649\n",
            "3 20.08553692318766\n",
            "4 54.598150033144265\n",
            "5 148.41315910257657\n",
            "6 403.4287934927351\n",
            "7 1096.6331584284578\n",
            "8 2980.957987041728\n",
            "9 8103.083927575384\n"
          ],
          "name": "stdout"
        }
      ]
    },
    {
      "cell_type": "code",
      "metadata": {
        "colab_type": "code",
        "id": "Oa1ECdM4ZZmm",
        "colab": {}
      },
      "source": [
        ""
      ],
      "execution_count": 0,
      "outputs": []
    }
  ]
}